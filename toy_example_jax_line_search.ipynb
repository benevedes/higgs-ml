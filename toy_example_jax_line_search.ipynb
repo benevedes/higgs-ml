{
 "cells": [
  {
   "cell_type": "code",
   "execution_count": 1,
   "metadata": {},
   "outputs": [],
   "source": [
    "import jax\n",
    "import jax.numpy as jnp\n",
    "import numpy as np\n",
    "import matplotlib.pyplot as plt\n",
    "from scipy.integrate import solve_ivp\n",
    "import optimistix as optx\n",
    "import optax"
   ]
  },
  {
   "cell_type": "code",
   "execution_count": null,
   "metadata": {},
   "outputs": [],
   "source": []
  },
  {
   "cell_type": "code",
   "execution_count": 332,
   "metadata": {},
   "outputs": [
    {
     "data": {
      "text/plain": [
       "Array([-1.7215826e-06,  2.4857254e+01], dtype=float32)"
      ]
     },
     "execution_count": 332,
     "metadata": {},
     "output_type": "execute_result"
    }
   ],
   "source": [
    "jax.grad(loss)(params_0, 5)"
   ]
  },
  {
   "cell_type": "code",
   "execution_count": 756,
   "metadata": {},
   "outputs": [],
   "source": [
    "def potential(phi, m2, beta):\n",
    "    return -m2/4*phi**2 + beta/4*jnp.log(phi)*phi**4\n",
    "\n",
    "def loss(params, args):\n",
    "    eps = 1e-8\n",
    "    m2, beta = params\n",
    "    def potential_mask(phi):\n",
    "        return potential(phi, m2, beta)\n",
    "    def potential_grad(phi, args):\n",
    "        return (jax.grad(potential_mask)(phi))**2/phi**2 #phi**2 is here to remove the minimum at phi=0 \n",
    "    eps = 1e-4\n",
    "    solver=optx.OptaxMinimiser(optax.adabelief(learning_rate=1e-3), rtol=1e-8, atol=1e-8)\n",
    "    sol1 = optx.minimise(potential_grad, y0=jnp.array(0.1), solver=solver, max_steps=100000, throw=False)\n",
    "    sol2 = optx.minimise(potential_grad, y0=1., solver=solver, max_steps=100000, throw=False)\n",
    "    return jnp.abs(sol1.value - sol2.value - eps)\n",
    "\n",
    "def critical_params(params_0):\n",
    "    meta_solver = optx.OptaxMinimiser(optax.adam(learning_rate=1e-6), rtol=1e-8, atol=1e-8)\n",
    "    param_sol = optx.minimise(loss, y0=params_0, solver=meta_solver, max_steps = 1000000, throw=False)\n",
    "    return param_sol.value\n",
    "\n",
    "beta = jnp.linspace(-0.01, -1, 3)\n",
    "m2 = -beta/100.\n",
    "params_0 = jnp.stack([m2, beta], axis=1)\n",
    "results = jax.vmap(critical_params)(params_0)"
   ]
  },
  {
   "cell_type": "code",
   "execution_count": 757,
   "metadata": {},
   "outputs": [
    {
     "data": {
      "text/plain": [
       "Array([[ 0.00175084, -0.00760542],\n",
       "       [ 0.0924923 , -0.41427147],\n",
       "       [ 0.18393622, -0.8241027 ]], dtype=float32)"
      ]
     },
     "execution_count": 757,
     "metadata": {},
     "output_type": "execute_result"
    }
   ],
   "source": [
    "results"
   ]
  },
  {
   "cell_type": "code",
   "execution_count": 758,
   "metadata": {},
   "outputs": [
    {
     "data": {
      "text/plain": [
       "Array([-1.4687648, -1.4993961, -1.4997061], dtype=float32)"
      ]
     },
     "execution_count": 758,
     "metadata": {},
     "output_type": "execute_result"
    }
   ],
   "source": [
    "jnp.log(-results[:,0]/results[:,1])"
   ]
  },
  {
   "cell_type": "code",
   "execution_count": 723,
   "metadata": {},
   "outputs": [
    {
     "data": {
      "text/plain": [
       "Array(0.65179014, dtype=float32)"
      ]
     },
     "execution_count": 723,
     "metadata": {},
     "output_type": "execute_result"
    }
   ],
   "source": [
    "loss(critical_params(jnp.array([0.01, -0.5])), 5)"
   ]
  },
  {
   "cell_type": "code",
   "execution_count": 697,
   "metadata": {},
   "outputs": [
    {
     "data": {
      "text/plain": [
       "Array(1.4964715, dtype=float32)"
      ]
     },
     "execution_count": 697,
     "metadata": {},
     "output_type": "execute_result"
    }
   ],
   "source": [
    "jnp.log(-param_sol.value[1]/param_sol.value[0]) #log(beta/m^2) should be 3/2 at criticality"
   ]
  },
  {
   "cell_type": "code",
   "execution_count": 698,
   "metadata": {},
   "outputs": [
    {
     "data": {
      "text/plain": [
       "Array(0.00180499, dtype=float32)"
      ]
     },
     "execution_count": 698,
     "metadata": {},
     "output_type": "execute_result"
    }
   ],
   "source": [
    "param_sol.value[0]"
   ]
  }
 ],
 "metadata": {
  "kernelspec": {
   "display_name": "tfm1",
   "language": "python",
   "name": "python3"
  },
  "language_info": {
   "codemirror_mode": {
    "name": "ipython",
    "version": 3
   },
   "file_extension": ".py",
   "mimetype": "text/x-python",
   "name": "python",
   "nbconvert_exporter": "python",
   "pygments_lexer": "ipython3",
   "version": "3.11.6"
  },
  "orig_nbformat": 4
 },
 "nbformat": 4,
 "nbformat_minor": 2
}
